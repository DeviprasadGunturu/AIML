import matplotlib.pyplot as plt

# Dataset
people = ['Kiran','Arun','Vijay','Varun']
age = [25, 30, 35, 40]
height = [145, 151, 165, 173]
weight = [45, 55, 65, 75]

# Scatter Plot: Age vs Height
plt.figure(figsize=(10, 6))
plt.scatter(age, height, color='blue', marker='o')
plt.title('Scatter Plot: Age vs Height')
plt.xlabel('Age (years)')
plt.ylabel('Height (cm)')
plt.grid(True)
plt.show()

# Bar Chart: People vs Weight
plt.figure(figsize=(10, 6))
plt.bar(people, weight, color='green')
plt.title('Bar Chart: People vs Weight')
plt.xlabel('People')
plt.ylabel('Weight (kg)')
plt.show()

# Histogram: Distribution of Heights
plt.figure(figsize=(10, 6))
plt.hist(height, bins=5, color='purple', edgecolor='black')
plt.title('Histogram: Distribution of Heights')
plt.xlabel('Height (cm)')
plt.ylabel('Frequency')
plt.show()
